{
 "metadata": {
  "name": ""
 },
 "nbformat": 3,
 "nbformat_minor": 0,
 "worksheets": [
  {
   "cells": [
    {
     "cell_type": "markdown",
     "metadata": {},
     "source": [
      "# Count the number of lines"
     ]
    },
    {
     "cell_type": "code",
     "collapsed": false,
     "input": [
      "def count_lines(filename):\n",
      "    with open(filename) as f:\n",
      "        return sum([1 for line in f])"
     ],
     "language": "python",
     "metadata": {},
     "outputs": [],
     "prompt_number": 1
    },
    {
     "cell_type": "code",
     "collapsed": false,
     "input": [
      "count_lines(\"bookings.csv\")"
     ],
     "language": "python",
     "metadata": {},
     "outputs": [
      {
       "metadata": {},
       "output_type": "pyout",
       "prompt_number": 4,
       "text": [
        "10000011"
       ]
      }
     ],
     "prompt_number": 4
    },
    {
     "cell_type": "code",
     "collapsed": false,
     "input": [
      "count_lines(\"searches.csv\")"
     ],
     "language": "python",
     "metadata": {},
     "outputs": [
      {
       "metadata": {},
       "output_type": "pyout",
       "prompt_number": 5,
       "text": [
        "20390199"
       ]
      }
     ],
     "prompt_number": 5
    },
    {
     "cell_type": "markdown",
     "metadata": {},
     "source": [
      "# Second exercise: top 10 arrival airports in the world in 2013 (using the bookings file)\n",
      "Arrival airport is the column arr_port. It is the IATA code for the airport\n",
      "\n",
      "### Read the data into the data frame chunk by chunk"
     ]
    },
    {
     "cell_type": "code",
     "collapsed": false,
     "input": [
      "import pandas as pd\n",
      "CHUNKSIZE=100000\n",
      "pieces = [pd.DataFrame(chunk) for chunk in pd.read_csv(\"bookings.csv\", \n",
      "                                                       chunksize = CHUNKSIZE, \n",
      "                                                       delimiter = r\" *\\^\", \n",
      "                                                       usecols=[\"arr_port\", \"pax\"])]\n",
      "df = pd.concat(pieces)"
     ],
     "language": "python",
     "metadata": {},
     "outputs": [],
     "prompt_number": 2
    },
    {
     "cell_type": "markdown",
     "metadata": {},
     "source": [
      "### Drop NA values"
     ]
    },
    {
     "cell_type": "code",
     "collapsed": false,
     "input": [
      "df = df.dropna()"
     ],
     "language": "python",
     "metadata": {},
     "outputs": [],
     "prompt_number": 3
    },
    {
     "cell_type": "markdown",
     "metadata": {},
     "source": [
      "### Get the top 10 airports"
     ]
    },
    {
     "cell_type": "code",
     "collapsed": false,
     "input": [
      "top10 = df.groupby(\"arr_port\").sum().sort('pax', ascending=False)[:10]\n",
      "print top10"
     ],
     "language": "python",
     "metadata": {},
     "outputs": [
      {
       "output_type": "stream",
       "stream": "stdout",
       "text": [
        "            pax\n",
        "arr_port       \n",
        "LHR       88809\n",
        "MCO       70930\n",
        "LAX       70530\n",
        "LAS       69630\n",
        "JFK       66270\n",
        "CDG       64490\n",
        "BKK       59460\n",
        "MIA       58150\n",
        "SFO       58000\n",
        "DXB       55590\n",
        "\n",
        "[10 rows x 1 columns]\n"
       ]
      }
     ],
     "prompt_number": 10
    },
    {
     "cell_type": "code",
     "collapsed": false,
     "input": [
      "from GeoBases import GeoBase\n",
      "geo_o = GeoBase(data='ori_por', verbose=False)\n",
      "geo_o.g"
     ],
     "language": "python",
     "metadata": {},
     "outputs": [],
     "prompt_number": 12
    },
    {
     "cell_type": "markdown",
     "metadata": {},
     "source": [
      "# Third exercise: plot the monthly number of searches for flights arriving at M\u00e1laga, Madrid or Barcelona\n",
      "\n",
      "For the arriving airport, you can use the Destination column in the searches file. Plot a curve for M\u00e1laga, another one for Madrid, and another one for Barcelona, in the same figure.\n",
      "\n",
      "Bonus point: Solving this problem using pandas (instead of any other approach)"
     ]
    },
    {
     "cell_type": "code",
     "collapsed": false,
     "input": [
      "import pandas as pd\n",
      "CHUNKSIZE=100000\n",
      "pieces = [pd.DataFrame(chunk) for chunk in pd.read_csv(\"searches.csv\", \n",
      "                                                       chunksize = CHUNKSIZE, \n",
      "                                                       delimiter = r\" *\\^|\\,\",\n",
      "                                                       usecols = [\"Date\",\"Destination\"])]\n",
      "search_df = pd.concat(pieces)"
     ],
     "language": "python",
     "metadata": {},
     "outputs": [],
     "prompt_number": 156
    },
    {
     "cell_type": "code",
     "collapsed": false,
     "input": [
      "import datetime\n",
      "def parse_date(s):\n",
      "    l = s.split(\"-\")\n",
      "    return datetime.date(int(l[0]), int(l[1]), int(l[2]))\n",
      "search_df[\"Date\"] = search_df[\"Date\"].apply(parse_date)\n",
      "search_df[\"Month\"] = search_df[\"Date\"].apply(lambda x: x.month)"
     ],
     "language": "python",
     "metadata": {},
     "outputs": [],
     "prompt_number": 157
    },
    {
     "cell_type": "code",
     "collapsed": false,
     "input": [
      "def count_by_month(df, airport):\n",
      "    res = df[df.Destination == airport].groupby(\"Month\").count()\n",
      "    return res[\"Month\"]\n",
      "\n",
      "\n",
      "agp = count_by_month(search_df, \"AGP\")\n",
      "mad = count_by_month(search_df, \"MAD\")\n",
      "bcn = count_by_month(search_df, \"BCN\")\n"
     ],
     "language": "python",
     "metadata": {},
     "outputs": [],
     "prompt_number": 167
    },
    {
     "cell_type": "code",
     "collapsed": false,
     "input": [
      "agp.plot(legend = True, label = \"Malaga\")\n",
      "mad.plot(legend = True, label = \"Madrid\")\n",
      "bcn.plot(legend = True, label = \"Barcelona\")"
     ],
     "language": "python",
     "metadata": {},
     "outputs": [
      {
       "metadata": {},
       "output_type": "pyout",
       "prompt_number": 183,
       "text": [
        "<matplotlib.axes.AxesSubplot at 0x7f63617b5290>"
       ]
      },
      {
       "metadata": {},
       "output_type": "display_data",
       "png": "[encoded data removed]",
       "text": [
        "<matplotlib.figure.Figure at 0x7f6361900a50>"
       ]
      }
     ],
     "prompt_number": 183
    },
    {
     "cell_type": "code",
     "collapsed": false,
     "input": [],
     "language": "python",
     "metadata": {},
     "outputs": []
    }
   ],
   "metadata": {}
  }
 ]
}